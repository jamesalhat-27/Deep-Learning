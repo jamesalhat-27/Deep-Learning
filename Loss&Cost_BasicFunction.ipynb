{
  "cells": [
    {
      "cell_type": "code",
      "execution_count": 1,
      "id": "979c19f6-9905-4c07-b07c-17a142b33b46",
      "metadata": {
        "id": "979c19f6-9905-4c07-b07c-17a142b33b46"
      },
      "outputs": [],
      "source": [
        "import numpy as np"
      ]
    },
    {
      "cell_type": "code",
      "execution_count": 2,
      "id": "71a5f1d6-9af2-49fa-9af5-9a06b762e329",
      "metadata": {
        "id": "71a5f1d6-9af2-49fa-9af5-9a06b762e329"
      },
      "outputs": [],
      "source": [
        "y_predicted = np.array([0,1,0,1,1,1,1,0,0,1])\n",
        "y_true = np.array([0.30,0.7,1,0,0.5,0.6,0.3,0.2,0.1,0.9])"
      ]
    },
    {
      "cell_type": "code",
      "execution_count": 3,
      "id": "fcf69833-f7ab-4225-a569-b734ef26baa7",
      "metadata": {
        "id": "fcf69833-f7ab-4225-a569-b734ef26baa7"
      },
      "outputs": [],
      "source": [
        "def mae(y_predicted, y_true):\n",
        "    total_error = 0\n",
        "    for yp, yt in zip(y_predicted, y_true):\n",
        "        total_error += abs(yp - yt)\n",
        "    print(\"Total error is:\",total_error)\n",
        "    mae = total_error/len(y_predicted)\n",
        "    print(\"Mean absolute error is:\",mae)\n",
        "    return mae"
      ]
    },
    {
      "cell_type": "code",
      "execution_count": 4,
      "id": "3d538e78-7012-4cd9-a8bb-b6669ea966cd",
      "metadata": {
        "colab": {
          "base_uri": "https://localhost:8080/"
        },
        "id": "3d538e78-7012-4cd9-a8bb-b6669ea966cd",
        "outputId": "3b709641-b5a8-4589-9543-0fc46598e43b"
      },
      "outputs": [
        {
          "output_type": "stream",
          "name": "stdout",
          "text": [
            "Total error is: 4.6\n",
            "Mean absolute error is: 0.45999999999999996\n"
          ]
        },
        {
          "output_type": "execute_result",
          "data": {
            "text/plain": [
              "np.float64(0.45999999999999996)"
            ]
          },
          "metadata": {},
          "execution_count": 4
        }
      ],
      "source": [
        "mae(y_predicted, y_true)"
      ]
    },
    {
      "cell_type": "code",
      "execution_count": 5,
      "id": "009391a0-d076-4bcf-9283-1e2204fb75af",
      "metadata": {
        "colab": {
          "base_uri": "https://localhost:8080/"
        },
        "id": "009391a0-d076-4bcf-9283-1e2204fb75af",
        "outputId": "9c5e07c3-46c1-49e1-8dcd-aa2909844083"
      },
      "outputs": [
        {
          "output_type": "execute_result",
          "data": {
            "text/plain": [
              "array([0.3, 0.3, 1. , 1. , 0.5, 0.4, 0.7, 0.2, 0.1, 0.1])"
            ]
          },
          "metadata": {},
          "execution_count": 5
        }
      ],
      "source": [
        "np.abs(y_predicted-y_true)"
      ]
    },
    {
      "cell_type": "code",
      "execution_count": 6,
      "id": "62bea9b2-b4e9-40a5-a2f0-496f3ff23786",
      "metadata": {
        "colab": {
          "base_uri": "https://localhost:8080/"
        },
        "id": "62bea9b2-b4e9-40a5-a2f0-496f3ff23786",
        "outputId": "f3ef15b1-866e-4742-a98d-4f0879c374a4"
      },
      "outputs": [
        {
          "output_type": "execute_result",
          "data": {
            "text/plain": [
              "np.float64(0.45999999999999996)"
            ]
          },
          "metadata": {},
          "execution_count": 6
        }
      ],
      "source": [
        "np.mean(np.abs(y_predicted-y_true))"
      ]
    },
    {
      "cell_type": "code",
      "execution_count": 7,
      "id": "8507ca7d-8737-4d47-b185-3b81f8fefbab",
      "metadata": {
        "id": "8507ca7d-8737-4d47-b185-3b81f8fefbab"
      },
      "outputs": [],
      "source": [
        "def mae_np(y_predicted, y_true):\n",
        "    return np.mean(np.abs(y_predicted-y_true))"
      ]
    },
    {
      "cell_type": "code",
      "execution_count": 8,
      "id": "00634241-6bbc-4602-bed0-ce1502351f93",
      "metadata": {
        "colab": {
          "base_uri": "https://localhost:8080/"
        },
        "id": "00634241-6bbc-4602-bed0-ce1502351f93",
        "outputId": "8139caf4-6942-41be-fb10-8a72e048c9f4"
      },
      "outputs": [
        {
          "output_type": "execute_result",
          "data": {
            "text/plain": [
              "np.float64(0.45999999999999996)"
            ]
          },
          "metadata": {},
          "execution_count": 8
        }
      ],
      "source": [
        "mae_np(y_predicted, y_true)"
      ]
    },
    {
      "cell_type": "raw",
      "id": "8ac90a58-3164-4a14-a69c-b4ebe08b251d",
      "metadata": {
        "id": "8ac90a58-3164-4a14-a69c-b4ebe08b251d"
      },
      "source": [
        "Implement Log Loss or Binary Cross Entropy"
      ]
    },
    {
      "cell_type": "code",
      "execution_count": 9,
      "id": "870cbb57-915c-44f4-abc2-7b5a8947f3fb",
      "metadata": {
        "colab": {
          "base_uri": "https://localhost:8080/"
        },
        "id": "870cbb57-915c-44f4-abc2-7b5a8947f3fb",
        "outputId": "e4d62021-f588-4678-96fa-1ab0cbafae1e"
      },
      "outputs": [
        {
          "output_type": "stream",
          "name": "stderr",
          "text": [
            "<ipython-input-9-faee82fd9f21>:1: RuntimeWarning: divide by zero encountered in log\n",
            "  np.log([0])\n"
          ]
        },
        {
          "output_type": "execute_result",
          "data": {
            "text/plain": [
              "array([-inf])"
            ]
          },
          "metadata": {},
          "execution_count": 9
        }
      ],
      "source": [
        "np.log([0])"
      ]
    },
    {
      "cell_type": "code",
      "execution_count": 10,
      "id": "77c10590-42c6-483c-b678-1760452efac0",
      "metadata": {
        "id": "77c10590-42c6-483c-b678-1760452efac0"
      },
      "outputs": [],
      "source": [
        "epsilon = 1e-15"
      ]
    },
    {
      "cell_type": "code",
      "execution_count": 11,
      "id": "58e65f6b-5aa5-42d3-afdf-f864b90b0a4b",
      "metadata": {
        "colab": {
          "base_uri": "https://localhost:8080/"
        },
        "id": "58e65f6b-5aa5-42d3-afdf-f864b90b0a4b",
        "outputId": "bc2b727f-89f0-4722-a661-38a325201f50"
      },
      "outputs": [
        {
          "output_type": "execute_result",
          "data": {
            "text/plain": [
              "array([-34.53877639])"
            ]
          },
          "metadata": {},
          "execution_count": 11
        }
      ],
      "source": [
        "np.log([1e-15])"
      ]
    },
    {
      "cell_type": "code",
      "execution_count": 12,
      "id": "550bd4a5-584e-472e-9af2-55e2a646e668",
      "metadata": {
        "colab": {
          "base_uri": "https://localhost:8080/"
        },
        "id": "550bd4a5-584e-472e-9af2-55e2a646e668",
        "outputId": "8146de20-23d6-4c60-d940-f98cd409f728"
      },
      "outputs": [
        {
          "output_type": "execute_result",
          "data": {
            "text/plain": [
              "array([0, 1, 0, 1, 1, 1, 1, 0, 0, 1])"
            ]
          },
          "metadata": {},
          "execution_count": 12
        }
      ],
      "source": [
        "y_predicted"
      ]
    },
    {
      "cell_type": "code",
      "execution_count": 13,
      "id": "1006315d-7172-48d5-b349-725393be526e",
      "metadata": {
        "colab": {
          "base_uri": "https://localhost:8080/"
        },
        "id": "1006315d-7172-48d5-b349-725393be526e",
        "outputId": "eaf3dbc3-6fa3-4036-c602-3335c082d8af"
      },
      "outputs": [
        {
          "output_type": "execute_result",
          "data": {
            "text/plain": [
              "[1e-15,\n",
              " np.int64(1),\n",
              " 1e-15,\n",
              " np.int64(1),\n",
              " np.int64(1),\n",
              " np.int64(1),\n",
              " np.int64(1),\n",
              " 1e-15,\n",
              " 1e-15,\n",
              " np.int64(1)]"
            ]
          },
          "metadata": {},
          "execution_count": 13
        }
      ],
      "source": [
        "y_predicted_new = [max(i,epsilon) for i in y_predicted]\n",
        "y_predicted_new"
      ]
    },
    {
      "cell_type": "code",
      "execution_count": 14,
      "id": "504aa396-14ad-4557-9124-fc6321c3fe21",
      "metadata": {
        "colab": {
          "base_uri": "https://localhost:8080/"
        },
        "id": "504aa396-14ad-4557-9124-fc6321c3fe21",
        "outputId": "4540a840-f5e2-429e-9246-813be678edfe"
      },
      "outputs": [
        {
          "output_type": "execute_result",
          "data": {
            "text/plain": [
              "0.999999999999999"
            ]
          },
          "metadata": {},
          "execution_count": 14
        }
      ],
      "source": [
        "1-epsilon"
      ]
    },
    {
      "cell_type": "code",
      "execution_count": 15,
      "id": "b2d8ce77-ef96-45c2-9fef-04afe692f738",
      "metadata": {
        "colab": {
          "base_uri": "https://localhost:8080/"
        },
        "id": "b2d8ce77-ef96-45c2-9fef-04afe692f738",
        "outputId": "3e473858-a4b6-49d0-de1f-aab4d98b8e57"
      },
      "outputs": [
        {
          "output_type": "execute_result",
          "data": {
            "text/plain": [
              "[1e-15,\n",
              " 0.999999999999999,\n",
              " 1e-15,\n",
              " 0.999999999999999,\n",
              " 0.999999999999999,\n",
              " 0.999999999999999,\n",
              " 0.999999999999999,\n",
              " 1e-15,\n",
              " 1e-15,\n",
              " 0.999999999999999]"
            ]
          },
          "metadata": {},
          "execution_count": 15
        }
      ],
      "source": [
        "y_predicted_new = [min(i,1-epsilon) for i in y_predicted_new]\n",
        "y_predicted_new"
      ]
    },
    {
      "cell_type": "code",
      "execution_count": 16,
      "id": "d0480bb2-436e-4e79-9baa-d1eeae04c989",
      "metadata": {
        "id": "d0480bb2-436e-4e79-9baa-d1eeae04c989"
      },
      "outputs": [],
      "source": [
        "y_predicted_new = np.array(y_predicted_new)"
      ]
    },
    {
      "cell_type": "code",
      "execution_count": 17,
      "id": "08035697-27da-4891-8a9b-dbc3f4f163c9",
      "metadata": {
        "colab": {
          "base_uri": "https://localhost:8080/"
        },
        "id": "08035697-27da-4891-8a9b-dbc3f4f163c9",
        "outputId": "43758200-ecb1-4805-9438-5e08e50d77b5"
      },
      "outputs": [
        {
          "output_type": "execute_result",
          "data": {
            "text/plain": [
              "array([-3.45387764e+01, -9.99200722e-16, -3.45387764e+01, -9.99200722e-16,\n",
              "       -9.99200722e-16, -9.99200722e-16, -9.99200722e-16, -3.45387764e+01,\n",
              "       -3.45387764e+01, -9.99200722e-16])"
            ]
          },
          "metadata": {},
          "execution_count": 17
        }
      ],
      "source": [
        "np.log(y_predicted_new)"
      ]
    },
    {
      "cell_type": "code",
      "execution_count": 18,
      "id": "7501b82e-a8e2-43d6-b891-414a1aaf500f",
      "metadata": {
        "colab": {
          "base_uri": "https://localhost:8080/"
        },
        "id": "7501b82e-a8e2-43d6-b891-414a1aaf500f",
        "outputId": "a1c61f8f-8cc5-455a-f0bc-d0ea0646ddb8"
      },
      "outputs": [
        {
          "output_type": "execute_result",
          "data": {
            "text/plain": [
              "np.float64(15.888077020887973)"
            ]
          },
          "metadata": {},
          "execution_count": 18
        }
      ],
      "source": [
        "-np.mean(y_true*np.log(y_predicted_new)+(1-y_true)*np.log(1-y_predicted_new))"
      ]
    },
    {
      "cell_type": "code",
      "execution_count": 19,
      "id": "7af1a1de-3510-4214-a3c2-0c89ac654816",
      "metadata": {
        "id": "7af1a1de-3510-4214-a3c2-0c89ac654816"
      },
      "outputs": [],
      "source": [
        "def log_loss(y_true, y_predicted):\n",
        "    y_predicted_new = [max(i,epsilon) for i in y_predicted]\n",
        "    y_predicted_new = [min(i,1-epsilon) for i in y_predicted_new]\n",
        "    y_predicted_new = np.array(y_predicted_new)\n",
        "    return -np.mean(y_true*np.log(y_predicted_new)+(1-y_true)*np.log(1-y_predicted_new))"
      ]
    },
    {
      "cell_type": "code",
      "execution_count": 20,
      "id": "6621aae4-0f23-465d-bc7c-16fa46624598",
      "metadata": {
        "colab": {
          "base_uri": "https://localhost:8080/"
        },
        "id": "6621aae4-0f23-465d-bc7c-16fa46624598",
        "outputId": "c028f897-b359-40e0-8dcc-91b329bba786"
      },
      "outputs": [
        {
          "output_type": "execute_result",
          "data": {
            "text/plain": [
              "np.float64(15.888077020887973)"
            ]
          },
          "metadata": {},
          "execution_count": 20
        }
      ],
      "source": [
        "log_loss(y_true, y_predicted)"
      ]
    },
    {
      "cell_type": "raw",
      "id": "7d1b8d6f-f074-4aa2-bcd7-b12613654859",
      "metadata": {
        "id": "7d1b8d6f-f074-4aa2-bcd7-b12613654859"
      },
      "source": [
        "Exercise 3\n",
        "Implement mean squared error (or MSE) in two ways,\n",
        "\n",
        "Without using numpy (i.e. using plain python)\n",
        "\n",
        "With the use of numpy"
      ]
    },
    {
      "cell_type": "code",
      "execution_count": 21,
      "id": "d2395246-637d-402a-9f21-2bc399ae7a6b",
      "metadata": {
        "colab": {
          "base_uri": "https://localhost:8080/"
        },
        "id": "d2395246-637d-402a-9f21-2bc399ae7a6b",
        "outputId": "e9ad3b80-93c4-4666-c8b0-922945b089c0"
      },
      "outputs": [
        {
          "output_type": "stream",
          "name": "stdout",
          "text": [
            "0.31399999999999995\n"
          ]
        }
      ],
      "source": [
        "#Without Numpy\n",
        "def mse(y_predicted, y_true):\n",
        "    total_error = 0\n",
        "    for yp, yt in zip(y_predicted, y_true):\n",
        "        total_error += (yp - yt) ** 2\n",
        "    mse_value = total_error / len(y_predicted)\n",
        "    return mse_value\n",
        "\n",
        "print(mse(y_predicted, y_true))"
      ]
    },
    {
      "cell_type": "code",
      "execution_count": 22,
      "id": "9ee9fe8d",
      "metadata": {
        "colab": {
          "base_uri": "https://localhost:8080/"
        },
        "id": "9ee9fe8d",
        "outputId": "ad6d31cd-4a4b-4fc0-c4fe-f9b191a8e2d7"
      },
      "outputs": [
        {
          "output_type": "stream",
          "name": "stdout",
          "text": [
            "0.31399999999999995\n"
          ]
        }
      ],
      "source": [
        "#With Numpy\n",
        "def mse_np(y_predicted, y_true):\n",
        "    return np.mean((y_predicted - y_true) ** 2)\n",
        "\n",
        "print(mse_np(y_predicted, y_true))"
      ]
    },
    {
      "cell_type": "code",
      "source": [],
      "metadata": {
        "id": "wubhRYeIZX8n"
      },
      "id": "wubhRYeIZX8n",
      "execution_count": null,
      "outputs": []
    }
  ],
  "metadata": {
    "kernelspec": {
      "display_name": "myenv",
      "language": "python",
      "name": "python3"
    },
    "language_info": {
      "codemirror_mode": {
        "name": "ipython",
        "version": 3
      },
      "file_extension": ".py",
      "mimetype": "text/x-python",
      "name": "python",
      "nbconvert_exporter": "python",
      "pygments_lexer": "ipython3",
      "version": "3.12.9"
    },
    "colab": {
      "provenance": []
    }
  },
  "nbformat": 4,
  "nbformat_minor": 5
}